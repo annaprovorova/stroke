{
 "cells": [
  {
   "cell_type": "markdown",
   "metadata": {},
   "source": [
    "# Регрессор, для определения положения изображения в мозгу"
   ]
  },
  {
   "cell_type": "code",
   "execution_count": 1,
   "metadata": {},
   "outputs": [],
   "source": [
    "import torch\n",
    "from torch.utils.data import DataLoader, TensorDataset\n",
    "\n",
    "from sklearn.model_selection import train_test_split\n",
    "import os\n",
    "import numpy as np\n",
    "import nibabel as nib\n",
    "from nilearn import image\n",
    "import matplotlib.pyplot as plt"
   ]
  },
  {
   "cell_type": "code",
   "execution_count": 2,
   "metadata": {},
   "outputs": [],
   "source": [
    "path = r'F:\\!наука\\stroke\\Lesions\\Lesions'\n",
    "stroke_types = os.listdir(path)\n",
    "X = []\n",
    "Y = []\n",
    "for folder in stroke_types:\n",
    "    for patient in os.listdir(f'{path}\\{folder}'):\n",
    "        img = nib.load(f'{path}\\{folder}\\{patient}\\dwi.nii.gz')\n",
    "        if len(img.shape) == 4:\n",
    "            img = image.index_img(img, 0)\n",
    "            img_data = img.get_fdata()\n",
    "            aff = img.affine\n",
    "            for i in range(img.shape[2]):\n",
    "                Y.append(round((aff @ np.array([0, 0, i, 1]))[2]))\n",
    "                X.append(img_data[:, :, i])\n"
   ]
  },
  {
   "cell_type": "code",
   "execution_count": 3,
   "metadata": {},
   "outputs": [
    {
     "data": {
      "image/png": "[encoded data removed]",
      "text/plain": [
       "<Figure size 640x480 with 2 Axes>"
      ]
     },
     "metadata": {},
     "output_type": "display_data"
    }
   ],
   "source": [
    "#выбросов не наблюдается\n",
    "fig, ax = plt.subplots(1, 2)\n",
    "ax[0].plot(sorted(Y))\n",
    "ax[1].boxplot(Y)\n",
    "plt.show()"
   ]
  },
  {
   "cell_type": "code",
   "execution_count": 23,
   "metadata": {},
   "outputs": [],
   "source": [
    "X = np.array(X)\n",
    "# нормализуем Y, чтобы не было отрицательных значений\n",
    "Y -= np.min(Y)\n",
    "Y = np.array(Y).reshape(-1, 1)\n",
    "\n",
    "X_train, X_test, y_train, y_test = train_test_split(X, Y, test_size=0.2)"
   ]
  },
  {
   "cell_type": "code",
   "execution_count": 24,
   "metadata": {},
   "outputs": [],
   "source": [
    "#Конвертируем в тензоры\n",
    "\n",
    "X_train = torch.Tensor(X_train)\n",
    "X_test = torch.Tensor(X_test)\n",
    "y_train = torch.Tensor(y_train)\n",
    "y_test = torch.Tensor(y_test)"
   ]
  },
  {
   "cell_type": "code",
   "execution_count": 25,
   "metadata": {},
   "outputs": [],
   "source": [
    "# создаём датасеты и лоадеры\n",
    "\n",
    "train_dataset = TensorDataset(X_train, y_train)\n",
    "test_dataset = TensorDataset(X_test, y_test)\n",
    "train_loader = DataLoader(train_dataset, batch_size=32, shuffle=True)\n",
    "test_loader = DataLoader(test_dataset, batch_size=32, shuffle=True)"
   ]
  },
  {
   "cell_type": "markdown",
   "metadata": {},
   "source": [
    "#### Модель\n",
    "\n",
    "Сейчас пробуем достаточно простую:\n",
    "\n",
    "- два свёрточных слоя\n",
    "- два пулинговых\n",
    "- два полносвязных\n",
    "\n",
    "может, добавить ещё дропаут??\n",
    "\n",
    "В качестве активации используем ReLU\n"
   ]
  },
  {
   "cell_type": "code",
   "execution_count": 17,
   "metadata": {},
   "outputs": [],
   "source": [
    "import torch.nn as nn\n",
    "\n",
    "class CNNRegressor(nn.Module):\n",
    "    def __init__(self):\n",
    "        super(CNNRegressor, self).__init__()\n",
    "        \n",
    "        #изображение чб, так что на вход 1 канал. Попробуем применить 16 фильтров \n",
    "        self.conv1 = nn.Conv2d(in_channels=1, out_channels=16, kernel_size=3, padding=1, stride=1)\n",
    "        self.pool = nn.MaxPool2d(kernel_size=2, stride=2)\n",
    "        # получает на вход 16 каналов и выдаёт 32\n",
    "        self.conv2 = nn.Conv2d(in_channels=16, out_channels=32, kernel_size=3, padding=1, stride=1)\n",
    "        #дропнем ещё 20% фич\n",
    "        self.drop = nn.Dropout2d(p=0.2)\n",
    "        self.conv3 = nn.Conv2d(in_channels=32, out_channels=62, kernel_size=3, padding=1, stride=1)\n",
    "        # Наша картинка размером 256х256 и к ней 2 раза применяется пулинг с ядром размера 2\n",
    "        # 256/2/2/2 = 32. Значит, наш тензор признаков будет 64х64 а мы нагенерировали их 64\n",
    "        self.fc1 = nn.Linear(in_features=32 * 32 * 64, out_features=128)\n",
    "        self.fc2 = nn.Linear(in_features=128, out_features=1)\n",
    "    \n",
    "    def forward(self, x):\n",
    "        x = x.unsqueeze(1)\n",
    "        x = self.conv1(x)\n",
    "        x = nn.functional.relu(x)\n",
    "        x = self.pool(x)\n",
    "        \n",
    "        x = self.conv2(x)\n",
    "        x = nn.functional.relu(x)\n",
    "        x = self.pool(x)\n",
    "\n",
    "        x = self.conv3(x)\n",
    "        x = nn.functional.relu(x)\n",
    "        x = self.pool(x)\n",
    "\n",
    "        x = nn.functional.dropout(self.drop(x), training=self.training)\n",
    "\n",
    "        x = x.view(-1, 32 * 32 * 64)\n",
    "        x = self.fc1(x)\n",
    "        x = nn.functional.relu(x)\n",
    "        x = self.fc2(x)\n",
    "        return x\n"
   ]
  },
  {
   "cell_type": "markdown",
   "metadata": {},
   "source": [
    "#### Тренировочка\n",
    "\n",
    "В качестве лосса будем использовать MSE, в качестве оптимизатора - Adam"
   ]
  },
  {
   "cell_type": "code",
   "execution_count": 31,
   "metadata": {},
   "outputs": [],
   "source": [
    "device = \"cpu\"\n",
    "if (torch.cuda.is_available()):\n",
    "    # if GPU available, use cuda (on a cpu, training will take a considerable length of time!)\n",
    "    device = \"cuda\"\n",
    "\n",
    "model = CNNRegressor().to(device)\n",
    "criterion = nn.MSELoss()\n",
    "optimizer = torch.optim.Adam(model.parameters(), lr=0.01)\n",
    "\n",
    "for epoch in range(10):\n",
    "    for i, (inputs, targets) in enumerate(train_loader):\n",
    "        #обнуляем градиенты\n",
    "        optimizer.zero_grad()\n",
    "\n",
    "        inputs, targets = inputs.to(device), targets.to(device)\n",
    "\n",
    "        outputs = model(inputs)\n",
    "        loss = criterion(outputs, targets)\n",
    "        loss.backward()\n",
    "        optimizer.step()\n",
    "\n",
    "        #выведем статистику\n",
    "        if (i+1)%10 == 0:\n",
    "            print(f'Epoch: {epoch+1}/10, Step: {i+1}/{len(train_loader)}, Loss: {loss.item() :.2f}')\n"
   ]
  },
  {
   "cell_type": "code",
   "execution_count": 27,
   "metadata": {},
   "outputs": [
    {
     "name": "stdout",
     "output_type": "stream",
     "text": [
      "Test Loss: 503.1458\n"
     ]
    }
   ],
   "source": [
    "#ну и на тесте\n",
    "with torch.no_grad(): #тут нам градиент не нужен, не тратим на него время\n",
    "    total_loss = 0\n",
    "    for inputs, targets in test_loader:\n",
    "        outputs = model(inputs)\n",
    "        loss = criterion(outputs, targets)\n",
    "        total_loss += loss.item()\n",
    "    mean_loss = total_loss / len(test_loader)\n",
    "    print(f'Test Loss: {mean_loss:.4f}')"
   ]
  },
  {
   "cell_type": "code",
   "execution_count": 28,
   "metadata": {},
   "outputs": [
    {
     "data": {
      "text/plain": [
       "tensor([[ 54.7409, 142.3506,  82.0680,  43.1481, 220.6697, 117.2217,  98.8073,\n",
       "         132.0001, 137.4942, 122.0130,  77.6805]])"
      ]
     },
     "execution_count": 28,
     "metadata": {},
     "output_type": "execute_result"
    }
   ],
   "source": [
    "outputs.T"
   ]
  },
  {
   "cell_type": "code",
   "execution_count": 29,
   "metadata": {},
   "outputs": [
    {
     "data": {
      "text/plain": [
       "tensor([[ 76., 164., 112.,  51., 162., 130.,  51., 158., 167., 120.,  26.]])"
      ]
     },
     "execution_count": 29,
     "metadata": {},
     "output_type": "execute_result"
    }
   ],
   "source": [
    "targets.T"
   ]
  }
 ],
 "metadata": {
  "kernelspec": {
   "display_name": "Python 3",
   "language": "python",
   "name": "python3"
  },
  "language_info": {
   "codemirror_mode": {
    "name": "ipython",
    "version": 3
   },
   "file_extension": ".py",
   "mimetype": "text/x-python",
   "name": "python",
   "nbconvert_exporter": "python",
   "pygments_lexer": "ipython3",
   "version": "3.11.5"
  },
  "orig_nbformat": 4
 },
 "nbformat": 4,
 "nbformat_minor": 2
}
